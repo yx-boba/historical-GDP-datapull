{
 "cells": [
  {
   "cell_type": "code",
   "execution_count": 1,
   "id": "3ad8d11d-f998-498e-9e47-34932fca7af4",
   "metadata": {},
   "outputs": [],
   "source": [
    "import sqlite3\n",
    "import pandas as pd\n",
    "import numpy as np\n",
    "import pyreadr # for importing rds file"
   ]
  },
  {
   "cell_type": "code",
   "execution_count": null,
   "id": "88584b10-8076-4cbe-9aa6-a6837896a3c7",
   "metadata": {},
   "outputs": [],
   "source": [
    "\n",
    "# importing the country concordance \n",
    "country = pd.read_excel('GNWO Country.xlsx')\n"
   ]
  },
  {
   "cell_type": "code",
   "execution_count": 34,
   "id": "d37f2a5c-a1a8-4783-888a-cec614bbeccb",
   "metadata": {},
   "outputs": [],
   "source": [
    "### creating a function to pull the data into dataframes\n",
    "\n",
    "def pull_his_gdp(path, latent_indi, var):\n",
    "    \n",
    "    #importing the data and slicing the needed datapoints\n",
    "    dt = pyreadr.read_r(path)\n",
    "    dt = dt[None]\n",
    "    dt = dt[dt['indicator'] == latent_indi]\n",
    "    \n",
    "    ### gdp mean values\n",
    "    # take the mean values and pivoting the data to wide format\n",
    "    dt = dt.pivot(index = 'gwno', columns = 'year', values = var)\n",
    "    \n",
    "    # merging in the country concordance\n",
    "    dt = country.merge(dt, on='gwno', how='left')\n",
    "    dt = dt.drop(columns=['gwno', 'Country Name']) \n",
    "    dt = dt.rename(columns={'IFs Country': 'Country'})\n",
    "    \n",
    "    # take the mean values and fill the earliest/mostrecent columns\n",
    "    year_columns = [col for col in dt.columns if str(col).isdigit()]\n",
    "    dt['Earliest'] = dt[year_columns].bfill(axis=1).iloc[:, 0]\n",
    "    dt['MostRecent'] = dt[year_columns].ffill(axis=1).iloc[:, -1]\n",
    "    \n",
    "    #change decimal place according to the datadict\n",
    "    dt[year_columns + ['Earliest', 'MostRecent']] = dt[year_columns + ['Earliest', 'MostRecent']].round(5)\n",
    "    print(dt.head())\n",
    "    return dt"
   ]
  },
  {
   "cell_type": "code",
   "execution_count": 35,
   "id": "7e9d4f6b-9474-4567-a050-63fd95dbf474",
   "metadata": {},
   "outputs": [
    {
     "name": "stdout",
     "output_type": "stream",
     "text": [
      "       Country FIPS_CODE       1500       1501       1502      1503  \\\n",
      "0  Afghanistan       AFG        NaN        NaN        NaN       NaN   \n",
      "1      Albania       ALB   36.36717   36.22964   36.27079   36.3751   \n",
      "2      Algeria       DZA  266.61539  268.36921  269.67871  272.1737   \n",
      "3       Angola       AGO        NaN        NaN        NaN       NaN   \n",
      "4    Argentina       ARG        NaN        NaN        NaN       NaN   \n",
      "\n",
      "        1504       1505       1506       1507  ...          2012  \\\n",
      "0        NaN        NaN        NaN        NaN  ...   13672.59194   \n",
      "1   36.59750   36.80215   36.91690   36.89560  ...    7045.22355   \n",
      "2  274.43569  276.25657  276.89699  278.16066  ...  105884.67245   \n",
      "3        NaN        NaN        NaN        NaN  ...   33387.66701   \n",
      "4        NaN        NaN        NaN        NaN  ...  208311.82129   \n",
      "\n",
      "           2013          2014          2015          2016          2017  \\\n",
      "0   14385.34345   14697.91563   14583.94635   14763.57660   15093.78288   \n",
      "1    7121.41166    7224.73706    7269.66973    7452.99635    7688.46249   \n",
      "2  108039.18599  110153.38138  110855.05242  112247.17777  111523.70826   \n",
      "3   35448.45667   36773.51793   36929.84816   36425.04090   35405.39569   \n",
      "4  210111.65876  206928.42825  203685.30043  201789.89727  204337.51625   \n",
      "\n",
      "           2018          2019    Earliest    MostRecent  \n",
      "0   15306.21494   15436.00984  1061.27031   15436.00984  \n",
      "1    7899.31551    7944.39966    36.36717    7944.39966  \n",
      "2  110917.75337  108920.18080   266.61539  108920.18080  \n",
      "3   34644.34312   34189.97031  1798.31006   34189.97031  \n",
      "4  203881.83428  202247.28638   252.06828  202247.28638  \n",
      "\n",
      "[5 rows x 524 columns]\n",
      "       Country FIPS_CODE       1500       1501       1502      1503  \\\n",
      "0  Afghanistan       AFG        NaN        NaN        NaN       NaN   \n",
      "1      Albania       ALB   36.36717   36.22964   36.27079   36.3751   \n",
      "2      Algeria       DZA  266.61539  268.36921  269.67871  272.1737   \n",
      "3       Angola       AGO        NaN        NaN        NaN       NaN   \n",
      "4    Argentina       ARG        NaN        NaN        NaN       NaN   \n",
      "\n",
      "        1504       1505       1506       1507  ...          2012  \\\n",
      "0        NaN        NaN        NaN        NaN  ...   13672.59194   \n",
      "1   36.59750   36.80215   36.91690   36.89560  ...    7045.22355   \n",
      "2  274.43569  276.25657  276.89699  278.16066  ...  105884.67245   \n",
      "3        NaN        NaN        NaN        NaN  ...   33387.66701   \n",
      "4        NaN        NaN        NaN        NaN  ...  208311.82129   \n",
      "\n",
      "           2013          2014          2015          2016          2017  \\\n",
      "0   14385.34345   14697.91563   14583.94635   14763.57660   15093.78288   \n",
      "1    7121.41166    7224.73706    7269.66973    7452.99635    7688.46249   \n",
      "2  108039.18599  110153.38138  110855.05242  112247.17777  111523.70826   \n",
      "3   35448.45667   36773.51793   36929.84816   36425.04090   35405.39569   \n",
      "4  210111.65876  206928.42825  203685.30043  201789.89727  204337.51625   \n",
      "\n",
      "           2018          2019    Earliest    MostRecent  \n",
      "0   15306.21494   15436.00984  1061.27031   15436.00984  \n",
      "1    7899.31551    7944.39966    36.36717    7944.39966  \n",
      "2  110917.75337  108920.18080   266.61539  108920.18080  \n",
      "3   34644.34312   34189.97031  1798.31006   34189.97031  \n",
      "4  203881.83428  202247.28638   252.06828  202247.28638  \n",
      "\n",
      "[5 rows x 524 columns]\n"
     ]
    }
   ],
   "source": [
    "## pulling the variables needed into dataframes\n",
    "gdp_mean = pull_his_gdp('estimates_gdp_model_combined_normal_noslope_gamma_lambda_additive_test_20240416.rds', \n",
    "                        'latent_gdp', 'mean')\n",
    "print(gdp_mean.head())\n"
   ]
  },
  {
   "cell_type": "code",
   "execution_count": 25,
   "id": "cf316013-20a7-4c19-b909-8111884e48da",
   "metadata": {},
   "outputs": [
    {
     "name": "stdout",
     "output_type": "stream",
     "text": [
      "       Country FIPS_CODE     1500     1501     1502     1503     1504  \\\n",
      "0  Afghanistan       AFG      NaN      NaN      NaN      NaN      NaN   \n",
      "1      Albania       ALB  1.43057  1.42945  1.42895  1.42972  1.43073   \n",
      "2      Algeria       DZA  2.30922  2.31142  2.31311  2.31606  2.31956   \n",
      "3       Angola       AGO      NaN      NaN      NaN      NaN      NaN   \n",
      "4    Argentina       ARG      NaN      NaN      NaN      NaN      NaN   \n",
      "\n",
      "      1505     1506     1507  ...     2012     2013     2014     2015  \\\n",
      "0      NaN      NaN      NaN  ...  4.13509  4.15713  4.16649  4.16309   \n",
      "1  1.43181  1.43350  1.43243  ...  3.84717  3.85181  3.85806  3.86076   \n",
      "2  2.32213  2.32262  2.32436  ...  5.02413  5.03287  5.04125  5.04397   \n",
      "3      NaN      NaN      NaN  ...  4.52283  4.54884  4.56476  4.56662   \n",
      "4      NaN      NaN      NaN  ...  5.31802  5.32174  5.31511  5.30821   \n",
      "\n",
      "      2016     2017     2018     2019  Earliest  MostRecent  \n",
      "0  4.16839  4.17787  4.18383  4.18705   2.94721     4.18705  \n",
      "1  3.87159  3.88500  3.89669  3.89877   1.43057     3.89877  \n",
      "2  5.04945  5.04652  5.04404  5.03581   2.30922     5.03581  \n",
      "3  4.56061  4.54815  4.53860  4.53253   3.25270     4.53253  \n",
      "4  5.30413  5.30953  5.30849  5.30470   2.39269     5.30470  \n",
      "\n",
      "[5 rows x 524 columns]\n"
     ]
    }
   ],
   "source": [
    "\n",
    "gdp_mean_log10 = pull_his_gdp('estimates_gdp_model_combined_normal_noslope_gamma_lambda_additive_test_20240416.rds',\n",
    "                              'latent_gdp', 'mean_log10')\n"
   ]
  },
  {
   "cell_type": "code",
   "execution_count": 26,
   "id": "4eded8aa-9b4d-4c52-a457-b7584edbfde0",
   "metadata": {},
   "outputs": [
    {
     "name": "stdout",
     "output_type": "stream",
     "text": [
      "       Country FIPS_CODE       1500       1501       1502       1503  \\\n",
      "0  Afghanistan       AFG        NaN        NaN        NaN        NaN   \n",
      "1      Albania       ALB   32.84511   32.71031   33.00476   33.21989   \n",
      "2      Algeria       DZA  227.75453  228.73123  230.77394  236.13309   \n",
      "3       Angola       AGO        NaN        NaN        NaN        NaN   \n",
      "4    Argentina       ARG        NaN        NaN        NaN        NaN   \n",
      "\n",
      "        1504       1505       1506       1507  ...         2012         2013  \\\n",
      "0        NaN        NaN        NaN        NaN  ...    810.53910    869.79037   \n",
      "1   33.61804   34.31399   34.43973   34.40820  ...    408.16063    420.10140   \n",
      "2  239.24479  240.33454  245.24681  245.77181  ...   6063.25206   6189.19973   \n",
      "3        NaN        NaN        NaN        NaN  ...   1969.15878   2098.03817   \n",
      "4        NaN        NaN        NaN        NaN  ...  11774.60335  12050.90971   \n",
      "\n",
      "          2014         2015         2016         2017         2018  \\\n",
      "0    872.86500    880.17802    898.80358    987.58495   1062.28823   \n",
      "1    431.40108    431.11233    436.66971    477.33202    511.28193   \n",
      "2   6481.87371   6675.17410   6492.80824   6964.97677   7374.11057   \n",
      "3   2204.90288   2188.74230   2202.84780   2307.18944   2388.46483   \n",
      "4  11857.17565  11972.93214  12037.59618  12579.73995  13074.46920   \n",
      "\n",
      "          2019   Earliest   MostRecent  \n",
      "0   1277.81398  720.10543   1277.81398  \n",
      "1    613.90227   32.84511    613.90227  \n",
      "2   8426.70269  227.75453   8426.70269  \n",
      "3   2716.98062  180.93852   2716.98062  \n",
      "4  14947.78406   51.63222  14947.78406  \n",
      "\n",
      "[5 rows x 524 columns]\n"
     ]
    }
   ],
   "source": [
    "gdp_sd = pull_his_gdp('estimates_gdp_model_combined_normal_noslope_gamma_lambda_additive_test_20240416.rds',\n",
    "                              'latent_gdp', 'sd')"
   ]
  },
  {
   "cell_type": "code",
   "execution_count": 27,
   "id": "871ef30b-40cf-4712-8234-f0b0e56475ff",
   "metadata": {},
   "outputs": [
    {
     "name": "stdout",
     "output_type": "stream",
     "text": [
      "       Country FIPS_CODE     1500     1501     1502     1503     1504  \\\n",
      "0  Afghanistan       AFG      NaN      NaN      NaN      NaN      NaN   \n",
      "1      Albania       ALB  0.33608  0.33532  0.33656  0.33714  0.33928   \n",
      "2      Algeria       DZA  0.31623  0.31750  0.31798  0.31870  0.31904   \n",
      "3       Angola       AGO      NaN      NaN      NaN      NaN      NaN   \n",
      "4    Argentina       ARG      NaN      NaN      NaN      NaN      NaN   \n",
      "\n",
      "      1505     1506     1507  ...     2012     2013     2014     2015  \\\n",
      "0      NaN      NaN      NaN  ...  0.02576  0.02631  0.02575  0.02615   \n",
      "1  0.34049  0.33996  0.34183  ...  0.02517  0.02558  0.02575  0.02565   \n",
      "2  0.31968  0.31997  0.32083  ...  0.02477  0.02484  0.02550  0.02612   \n",
      "3      NaN      NaN      NaN  ...  0.02567  0.02568  0.02602  0.02570   \n",
      "4      NaN      NaN      NaN  ...  0.02453  0.02492  0.02483  0.02547   \n",
      "\n",
      "      2016     2017     2018     2019  Earliest  MostRecent  \n",
      "0  0.02643  0.02838  0.03010  0.03592   0.26018     0.03592  \n",
      "1  0.02542  0.02695  0.02800  0.03349   0.33608     0.03349  \n",
      "2  0.02508  0.02707  0.02886  0.03353   0.31623     0.03353  \n",
      "3  0.02625  0.02828  0.02998  0.03457   0.04331     0.03457  \n",
      "4  0.02593  0.02670  0.02781  0.03208   0.08739     0.03208  \n",
      "\n",
      "[5 rows x 524 columns]\n"
     ]
    }
   ],
   "source": [
    "gdp_sd_log10 = pull_his_gdp('estimates_gdp_model_combined_normal_noslope_gamma_lambda_additive_test_20240416.rds',\n",
    "                              'latent_gdp', 'sd_log10')"
   ]
  },
  {
   "cell_type": "code",
   "execution_count": 36,
   "id": "09d4e79a-a219-4c90-8120-2d12b0aa96ab",
   "metadata": {},
   "outputs": [
    {
     "name": "stdout",
     "output_type": "stream",
     "text": [
      "       Country FIPS_CODE     1500     1501     1502     1503     1504  \\\n",
      "0  Afghanistan       AFG      NaN      NaN      NaN      NaN      NaN   \n",
      "1      Albania       ALB  1.69576  1.68969  1.68800  1.69131  1.69894   \n",
      "2      Algeria       DZA  1.65056  1.65265  1.65256  1.65822  1.66165   \n",
      "3       Angola       AGO      NaN      NaN      NaN      NaN      NaN   \n",
      "4    Argentina       ARG      NaN      NaN      NaN      NaN      NaN   \n",
      "\n",
      "      1505     1506     1507  ...      2012      2013      2014      2015  \\\n",
      "0      NaN      NaN      NaN  ...   4.10553   4.21002   4.19960   4.08377   \n",
      "1  1.70287  1.70508  1.70382  ...  22.44361  22.70829  23.10304  23.34064   \n",
      "2  1.66688  1.66493  1.66824  ...  26.53137  26.60870  26.63767  26.42833   \n",
      "3      NaN      NaN      NaN  ...  13.89480  14.21421  14.25440  13.86932   \n",
      "4      NaN      NaN      NaN  ...  46.47678  46.37682  45.36339  44.41613   \n",
      "\n",
      "       2016      2017      2018      2019  Earliest  MostRecent  \n",
      "0   4.04414   4.04216   4.01137   3.97496   3.00402     3.97496  \n",
      "1  23.96841  24.76208  25.50900  25.85656   1.69576    25.85656  \n",
      "2  26.28444  25.64777  25.10904  24.32220   1.65056    24.32220  \n",
      "3  13.22295  12.37720  11.63153  10.86746   4.05975    10.86746  \n",
      "4  43.71854  43.87763  43.40941  42.89587   3.90247    42.89587  \n",
      "\n",
      "[5 rows x 524 columns]\n"
     ]
    }
   ],
   "source": [
    "gdppc_mean = pull_his_gdp('estimates_gdppc_model_combined_normal_noslope_gamma_lambda_additive_test_20240416.rds',\n",
    "                              'latent_gdppc', 'mean')\n"
   ]
  },
  {
   "cell_type": "code",
   "execution_count": 37,
   "id": "7f6d149a-4b05-4a49-b33a-b11f717bfa82",
   "metadata": {},
   "outputs": [
    {
     "name": "stdout",
     "output_type": "stream",
     "text": [
      "       Country FIPS_CODE     1500     1501     1502     1503     1504  \\\n",
      "0  Afghanistan       AFG      NaN      NaN      NaN      NaN      NaN   \n",
      "1      Albania       ALB  0.09952  0.09908  0.09807  0.09897  0.10048   \n",
      "2      Algeria       DZA  0.10250  0.10302  0.10301  0.10398  0.10515   \n",
      "3       Angola       AGO      NaN      NaN      NaN      NaN      NaN   \n",
      "4    Argentina       ARG      NaN      NaN      NaN      NaN      NaN   \n",
      "\n",
      "      1505     1506     1507  ...     2012     2013     2014     2015  \\\n",
      "0      NaN      NaN      NaN  ...  0.61277  0.62364  0.62259  0.61042   \n",
      "1  0.10111  0.10214  0.10139  ...  1.35046  1.35556  1.36303  1.36748   \n",
      "2  0.10602  0.10530  0.10583  ...  1.42317  1.42442  1.42486  1.42139   \n",
      "3      NaN      NaN      NaN  ...  1.14220  1.15207  1.15330  1.14141   \n",
      "4      NaN      NaN      NaN  ...  1.66665  1.66568  1.65610  1.64693   \n",
      "\n",
      "      2016     2017     2018     2019  Earliest  MostRecent  \n",
      "0  0.60616  0.60581  0.60242  0.59816   0.40030     0.59816  \n",
      "1  1.37901  1.39308  1.40591  1.41146   0.09952     1.41146  \n",
      "2  1.41907  1.40831  1.39897  1.38483   0.10250     1.38483  \n",
      "3  1.12065  1.09181  1.06474  1.03495   0.60672     1.03495  \n",
      "4  1.64002  1.64156  1.63682  1.63139   0.58973     1.63139  \n",
      "\n",
      "[5 rows x 524 columns]\n"
     ]
    }
   ],
   "source": [
    "gdppc_mean_log10 = pull_his_gdp('estimates_gdppc_model_combined_normal_noslope_gamma_lambda_additive_test_20240416.rds',\n",
    "                              'latent_gdppc', 'mean_log10')"
   ]
  },
  {
   "cell_type": "code",
   "execution_count": 38,
   "id": "6a51ecfa-b5b2-41f7-98a2-bd761cc62a58",
   "metadata": {},
   "outputs": [
    {
     "name": "stdout",
     "output_type": "stream",
     "text": [
      "       Country FIPS_CODE     1500     1501     1502     1503     1504  \\\n",
      "0  Afghanistan       AFG      NaN      NaN      NaN      NaN      NaN   \n",
      "1      Albania       ALB  1.53687  1.51837  1.52887  1.52819  1.53472   \n",
      "2      Algeria       DZA  1.39267  1.38648  1.38637  1.40156  1.40479   \n",
      "3       Angola       AGO      NaN      NaN      NaN      NaN      NaN   \n",
      "4    Argentina       ARG      NaN      NaN      NaN      NaN      NaN   \n",
      "\n",
      "      1505     1506     1507  ...     2012     2013     2014     2015  \\\n",
      "0      NaN      NaN      NaN  ...  0.21609  0.22894  0.22488  0.22193   \n",
      "1  1.55051  1.54967  1.54334  ...  1.21584  1.22231  1.25963  1.26426   \n",
      "2  1.40652  1.41785  1.42386  ...  1.38523  1.41107  1.44811  1.47629   \n",
      "3      NaN      NaN      NaN  ...  0.76210  0.77920  0.78027  0.75503   \n",
      "4      NaN      NaN      NaN  ...  2.42287  2.47719  2.40319  2.35609   \n",
      "\n",
      "      2016     2017     2018     2019  Earliest  MostRecent  \n",
      "0  0.22372  0.24699  0.25467  0.29309   2.05177     0.29309  \n",
      "1  1.28735  1.41634  1.53478  1.84938   1.53687     1.84938  \n",
      "2  1.41163  1.49773  1.58424  1.79075   1.39267     1.79075  \n",
      "3  0.74115  0.75891  0.74635  0.79964   0.36968     0.79964  \n",
      "4  2.38411  2.46191  2.58264  2.95628   0.33718     2.95628  \n",
      "\n",
      "[5 rows x 524 columns]\n"
     ]
    }
   ],
   "source": [
    "gdppc_sd = pull_his_gdp('estimates_gdppc_model_combined_normal_noslope_gamma_lambda_additive_test_20240416.rds',\n",
    "                              'latent_gdppc', 'sd')"
   ]
  },
  {
   "cell_type": "code",
   "execution_count": 39,
   "id": "edfa3c35-008f-46ba-8f56-ec95b6891d40",
   "metadata": {},
   "outputs": [
    {
     "name": "stdout",
     "output_type": "stream",
     "text": [
      "       Country FIPS_CODE     1500     1501     1502     1503     1504  \\\n",
      "0  Afghanistan       AFG      NaN      NaN      NaN      NaN      NaN   \n",
      "1      Albania       ALB  0.33534  0.33401  0.33455  0.33477  0.33546   \n",
      "2      Algeria       DZA  0.31484  0.31512  0.31511  0.31537  0.31524   \n",
      "3       Angola       AGO      NaN      NaN      NaN      NaN      NaN   \n",
      "4    Argentina       ARG      NaN      NaN      NaN      NaN      NaN   \n",
      "\n",
      "      1505     1506     1507  ...     2012     2013     2014     2015  \\\n",
      "0      NaN      NaN      NaN  ...  0.02284  0.02359  0.02323  0.02358   \n",
      "1  0.33555  0.33498  0.33633  ...  0.02352  0.02331  0.02354  0.02350   \n",
      "2  0.31621  0.31625  0.31680  ...  0.02258  0.02297  0.02352  0.02421   \n",
      "3      NaN      NaN      NaN  ...  0.02380  0.02377  0.02375  0.02363   \n",
      "4      NaN      NaN      NaN  ...  0.02261  0.02315  0.02294  0.02300   \n",
      "\n",
      "      2016     2017     2018     2019  Earliest  MostRecent  \n",
      "0  0.02399  0.02644  0.02745  0.03195   0.25726     0.03195  \n",
      "1  0.02332  0.02484  0.02603  0.03102   0.33534     0.03102  \n",
      "2  0.02327  0.02531  0.02730  0.03189   0.31484     0.03189  \n",
      "3  0.02431  0.02660  0.02787  0.03200   0.03927     0.03200  \n",
      "4  0.02370  0.02438  0.02581  0.02988   0.03745     0.02988  \n",
      "\n",
      "[5 rows x 524 columns]\n"
     ]
    }
   ],
   "source": [
    "gdppc_sd_log10 = pull_his_gdp('estimates_gdppc_model_combined_normal_noslope_gamma_lambda_additive_test_20240416.rds',\n",
    "                              'latent_gdppc', 'sd_log10')"
   ]
  },
  {
   "cell_type": "code",
   "execution_count": 40,
   "id": "e846022d-6f43-421b-b436-79e95cabec78",
   "metadata": {},
   "outputs": [
    {
     "name": "stdout",
     "output_type": "stream",
     "text": [
      "       Country FIPS_CODE       1500       1501       1502       1503  \\\n",
      "0  Afghanistan       AFG        NaN        NaN        NaN        NaN   \n",
      "1      Albania       ALB   21.47482   21.45874   21.49931   21.50647   \n",
      "2      Algeria       DZA  161.28618  162.01339  162.76151  163.61059   \n",
      "3       Angola       AGO        NaN        NaN        NaN        NaN   \n",
      "4    Argentina       ARG        NaN        NaN        NaN        NaN   \n",
      "\n",
      "        1504       1505       1506       1507  ...        2012        2013  \\\n",
      "0        NaN        NaN        NaN        NaN  ...  3330.44167  3417.12221   \n",
      "1   21.49631   21.53174   21.57726   21.57223  ...   313.93713   313.60713   \n",
      "2  164.60108  165.34821  165.89975  166.46892  ...  3991.12769  4060.63749   \n",
      "3        NaN        NaN        NaN        NaN  ...  2403.07778  2494.05602   \n",
      "4        NaN        NaN        NaN        NaN  ...  4482.31122  4530.88834   \n",
      "\n",
      "         2014        2015        2016        2017        2018        2019  \\\n",
      "0  3500.12669  3571.40990  3650.90608  3734.57057  3816.04906  3883.73237   \n",
      "1   312.72610   311.47162   310.96512   310.50189   309.69113   307.28629   \n",
      "2  4135.52749  4194.84373  4270.79671  4348.62342  4418.00796  4479.42451   \n",
      "3  2579.91745  2662.81293  2754.85059  2860.76440  2978.55819  3146.38104   \n",
      "4  4561.79979  4585.84480  4615.78718  4657.06033  4697.03014  4715.71384   \n",
      "\n",
      "    Earliest  MostRecent  \n",
      "0  353.97775  3883.73237  \n",
      "1   21.47482   307.28629  \n",
      "2  161.28618  4479.42451  \n",
      "3  442.96268  3146.38104  \n",
      "4   64.58064  4715.71384  \n",
      "\n",
      "[5 rows x 524 columns]\n"
     ]
    }
   ],
   "source": [
    "pop_mean = pull_his_gdp('estimates_pop_model_combined_normal_noslope_gamma_lambda_additive_test_20240416.rds',\n",
    "                              'latent_pop', 'mean')"
   ]
  },
  {
   "cell_type": "code",
   "execution_count": 41,
   "id": "74e88aa7-e24d-49c4-b45d-3d631243e95b",
   "metadata": {},
   "outputs": [
    {
     "name": "stdout",
     "output_type": "stream",
     "text": [
      "       Country FIPS_CODE     1500     1501     1502     1503     1504  \\\n",
      "0  Afghanistan       AFG      NaN      NaN      NaN      NaN      NaN   \n",
      "1      Albania       ALB  1.33106  1.33037  1.33088  1.33074  1.33026   \n",
      "2      Algeria       DZA  2.20673  2.20840  2.21010  2.21208  2.21441   \n",
      "3       Angola       AGO      NaN      NaN      NaN      NaN      NaN   \n",
      "4    Argentina       ARG      NaN      NaN      NaN      NaN      NaN   \n",
      "\n",
      "      1505     1506     1507  ...     2012     2013     2014     2015  \\\n",
      "0      NaN      NaN      NaN  ...  3.52232  3.53348  3.54391  3.55267   \n",
      "1  1.33070  1.33136  1.33104  ...  2.49671  2.49625  2.49503  2.49328   \n",
      "2  2.21611  2.21731  2.21852  ...  3.60095  3.60846  3.61639  3.62258   \n",
      "3      NaN      NaN      NaN  ...  3.38063  3.39677  3.41146  3.42520   \n",
      "4      NaN      NaN      NaN  ...  3.65137  3.65605  3.65901  3.66128   \n",
      "\n",
      "      2016     2017     2018     2019  Earliest  MostRecent  \n",
      "0  3.56222  3.57206  3.58140  3.58889   2.54692     3.58889  \n",
      "1  2.49257  2.49193  2.49077  2.48731   1.33106     2.48731  \n",
      "2  3.63038  3.63821  3.64507  3.65098   2.20673     3.65098  \n",
      "3  3.43996  3.45634  3.47386  3.49757   2.64598     3.49757  \n",
      "4  3.66411  3.66797  3.67167  3.67331   1.80296     3.67331  \n",
      "\n",
      "[5 rows x 524 columns]\n"
     ]
    }
   ],
   "source": [
    "pop_mean_log10 = pull_his_gdp('estimates_pop_model_combined_normal_noslope_gamma_lambda_additive_test_20240416.rds',\n",
    "                              'latent_pop', 'mean_log10')"
   ]
  },
  {
   "cell_type": "code",
   "execution_count": 42,
   "id": "cc47df15-10dd-46e1-818b-d22b7fa92c30",
   "metadata": {},
   "outputs": [
    {
     "name": "stdout",
     "output_type": "stream",
     "text": [
      "       Country FIPS_CODE      1500      1501      1502      1503      1504  \\\n",
      "0  Afghanistan       AFG       NaN       NaN       NaN       NaN       NaN   \n",
      "1      Albania       ALB   1.35900   1.62197   1.81635   1.97791   2.12413   \n",
      "2      Algeria       DZA  10.21875  11.80903  13.28082  14.60568  15.87848   \n",
      "3       Angola       AGO       NaN       NaN       NaN       NaN       NaN   \n",
      "4    Argentina       ARG       NaN       NaN       NaN       NaN       NaN   \n",
      "\n",
      "       1505      1506      1507  ...       2012       2013       2014  \\\n",
      "0       NaN       NaN       NaN  ...   96.65709   98.15665  100.39293   \n",
      "1   2.26156   2.39357   2.48934  ...    7.76041    7.71807    7.86528   \n",
      "2  17.01224  17.96949  19.00344  ...  101.97562  102.85854  105.17790   \n",
      "3       NaN       NaN       NaN  ...   60.75287   63.29678   67.71159   \n",
      "4       NaN       NaN       NaN  ...  108.81434  111.33653  109.60790   \n",
      "\n",
      "        2015       2016       2017       2018       2019  Earliest  MostRecent  \n",
      "0  100.97177  103.93850  106.71871  119.46368  157.20798  34.52785   157.20798  \n",
      "1    7.90046    7.84947    7.82370    8.29343   10.15558   1.35900    10.15558  \n",
      "2  106.63988  105.65098  110.37905  118.04684  148.76466  10.21875   148.76466  \n",
      "3   66.81372   69.64711   72.89473   78.30179  103.95913  18.77185   103.95913  \n",
      "4  115.95810  116.88818  120.01814  124.49107  155.59825  11.83700   155.59825  \n",
      "\n",
      "[5 rows x 524 columns]\n"
     ]
    }
   ],
   "source": [
    "pop_sd = pull_his_gdp('estimates_pop_model_combined_normal_noslope_gamma_lambda_additive_test_20240416.rds',\n",
    "                              'latent_pop', 'sd')"
   ]
  },
  {
   "cell_type": "code",
   "execution_count": 43,
   "id": "f0152ec6-2e29-439c-9094-da336c7e348c",
   "metadata": {},
   "outputs": [
    {
     "name": "stdout",
     "output_type": "stream",
     "text": [
      "       Country FIPS_CODE     1500     1501     1502    1503     1504     1505  \\\n",
      "0  Afghanistan       AFG      NaN      NaN      NaN     NaN      NaN      NaN   \n",
      "1      Albania       ALB  0.02752  0.03277  0.03660  0.0398  0.04276  0.04545   \n",
      "2      Algeria       DZA  0.02752  0.03169  0.03552  0.0389  0.04194  0.04459   \n",
      "3       Angola       AGO      NaN      NaN      NaN     NaN      NaN      NaN   \n",
      "4    Argentina       ARG      NaN      NaN      NaN     NaN      NaN      NaN   \n",
      "\n",
      "      1506     1507  ...     2012     2013     2014     2015     2016  \\\n",
      "0      NaN      NaN  ...  0.01259  0.01248  0.01244  0.01229  0.01237   \n",
      "1  0.04782  0.04973  ...  0.01074  0.01068  0.01092  0.01102  0.01095   \n",
      "2  0.04691  0.04941  ...  0.01110  0.01100  0.01105  0.01104  0.01073   \n",
      "3      NaN      NaN  ...  0.01098  0.01103  0.01140  0.01088  0.01097   \n",
      "4      NaN      NaN  ...  0.01054  0.01067  0.01044  0.01096  0.01099   \n",
      "\n",
      "      2017     2018     2019  Earliest  MostRecent  \n",
      "0  0.01241  0.01360  0.01757   0.04233     0.01757  \n",
      "1  0.01094  0.01162  0.01434   0.02752     0.01434  \n",
      "2  0.01104  0.01158  0.01445   0.02752     0.01445  \n",
      "3  0.01107  0.01142  0.01433   0.01840     0.01433  \n",
      "4  0.01119  0.01151  0.01433   0.07871     0.01433  \n",
      "\n",
      "[5 rows x 524 columns]\n"
     ]
    }
   ],
   "source": [
    "pop_sd_log10 = pull_his_gdp('estimates_pop_model_combined_normal_noslope_gamma_lambda_additive_test_20240416.rds',\n",
    "                              'latent_pop', 'sd_log10')"
   ]
  },
  {
   "cell_type": "code",
   "execution_count": 53,
   "id": "bbc841a6-525d-4518-8af0-e003cefc1a78",
   "metadata": {},
   "outputs": [],
   "source": [
    "#sql table; change table name each time you import \n",
    "conn = sqlite3.connect('IFsDataImport.db')\n",
    "cursor = conn.cursor()\n",
    "table_name = 'SeriesHistoricalGDP%mean'\n",
    "columns_sql = ['Country VARCHAR(255)', 'FIPS_CODE VARCHAR(255)']\n",
    "columns_sql += [f'\"{col}\" DOUBLE(53)' for col in year_columns + ['Earliest', 'MostRecent']]\n",
    "create_table_sql = f\"CREATE TABLE '{table_name}' ({', '.join(columns_sql)})\"\n",
    "            \n",
    "cursor.execute(create_table_sql)\n",
    "gdp_mean.to_sql(table_name, conn, if_exists='append', index=False)\n",
    "conn.commit()\n",
    "conn.close()"
   ]
  },
  {
   "cell_type": "code",
   "execution_count": 54,
   "id": "05189b12-06ee-4c10-8508-d7268d13114c",
   "metadata": {},
   "outputs": [],
   "source": [
    "#sql table; change table name each time you import \n",
    "conn = sqlite3.connect('IFsDataImport.db')\n",
    "cursor = conn.cursor()\n",
    "table_name = 'SeriesHistoricalGDP%meanLog10'\n",
    "columns_sql = ['Country VARCHAR(255)', 'FIPS_CODE VARCHAR(255)']\n",
    "columns_sql += [f'\"{col}\" DOUBLE(53)' for col in year_columns + ['Earliest', 'MostRecent']]\n",
    "create_table_sql = f\"CREATE TABLE '{table_name}' ({', '.join(columns_sql)})\"\n",
    "            \n",
    "cursor.execute(create_table_sql)\n",
    "gdp_mean_log10.to_sql(table_name, conn, if_exists='append', index=False)\n",
    "conn.commit()\n",
    "conn.close()"
   ]
  },
  {
   "cell_type": "code",
   "execution_count": 55,
   "id": "7349d166-5170-4963-890d-1c812706bd54",
   "metadata": {},
   "outputs": [],
   "source": [
    "#sql table; change table name each time you import \n",
    "conn = sqlite3.connect('IFsDataImport.db')\n",
    "cursor = conn.cursor()\n",
    "table_name = 'SeriesHistoricalGDP%sd'\n",
    "columns_sql = ['Country VARCHAR(255)', 'FIPS_CODE VARCHAR(255)']\n",
    "columns_sql += [f'\"{col}\" DOUBLE(53)' for col in year_columns + ['Earliest', 'MostRecent']]\n",
    "create_table_sql = f\"CREATE TABLE '{table_name}' ({', '.join(columns_sql)})\"\n",
    "            \n",
    "cursor.execute(create_table_sql)\n",
    "gdp_sd.to_sql(table_name, conn, if_exists='append', index=False)\n",
    "conn.commit()\n",
    "conn.close()"
   ]
  },
  {
   "cell_type": "code",
   "execution_count": 56,
   "id": "861ac981-81a7-48d6-8de3-66a881e7f66e",
   "metadata": {},
   "outputs": [],
   "source": [
    "#sql table; change table name each time you import \n",
    "conn = sqlite3.connect('IFsDataImport.db')\n",
    "cursor = conn.cursor()\n",
    "table_name = 'SeriesHistoricalGDP%sd_log10'\n",
    "columns_sql = ['Country VARCHAR(255)', 'FIPS_CODE VARCHAR(255)']\n",
    "columns_sql += [f'\"{col}\" DOUBLE(53)' for col in year_columns + ['Earliest', 'MostRecent']]\n",
    "create_table_sql = f\"CREATE TABLE '{table_name}' ({', '.join(columns_sql)})\"\n",
    "            \n",
    "cursor.execute(create_table_sql)\n",
    "gdp_sd_log10.to_sql(table_name, conn, if_exists='append', index=False)\n",
    "conn.commit()\n",
    "conn.close()"
   ]
  },
  {
   "cell_type": "code",
   "execution_count": 57,
   "id": "06c5c32c-510c-4805-8ac5-9b61402011bf",
   "metadata": {},
   "outputs": [],
   "source": [
    "#sql table; change table name each time you import \n",
    "conn = sqlite3.connect('IFsDataImport.db')\n",
    "cursor = conn.cursor()\n",
    "table_name = 'SeriesHistoricalGDPPC%mean'\n",
    "columns_sql = ['Country VARCHAR(255)', 'FIPS_CODE VARCHAR(255)']\n",
    "columns_sql += [f'\"{col}\" DOUBLE(53)' for col in year_columns + ['Earliest', 'MostRecent']]\n",
    "create_table_sql = f\"CREATE TABLE '{table_name}' ({', '.join(columns_sql)})\"\n",
    "            \n",
    "cursor.execute(create_table_sql)\n",
    "gdppc_mean.to_sql(table_name, conn, if_exists='append', index=False)\n",
    "conn.commit()\n",
    "conn.close()"
   ]
  },
  {
   "cell_type": "code",
   "execution_count": 59,
   "id": "19ba6424-2b84-4274-92f7-651b45498aeb",
   "metadata": {},
   "outputs": [],
   "source": [
    "#sql table; change table name each time you import \n",
    "conn = sqlite3.connect('IFsDataImport.db')\n",
    "cursor = conn.cursor()\n",
    "table_name = 'SeriesHistoricalGDPPC%mean_log10'\n",
    "columns_sql = ['Country VARCHAR(255)', 'FIPS_CODE VARCHAR(255)']\n",
    "columns_sql += [f'\"{col}\" DOUBLE(53)' for col in year_columns + ['Earliest', 'MostRecent']]\n",
    "create_table_sql = f\"CREATE TABLE '{table_name}' ({', '.join(columns_sql)})\"\n",
    "            \n",
    "cursor.execute(create_table_sql)\n",
    "gdppc_mean_log10.to_sql(table_name, conn, if_exists='append', index=False)\n",
    "conn.commit()\n",
    "conn.close()"
   ]
  },
  {
   "cell_type": "code",
   "execution_count": 60,
   "id": "fc1e1b44-55e8-45d4-a8ca-923c6be2d84a",
   "metadata": {},
   "outputs": [],
   "source": [
    "#sql table; change table name each time you import \n",
    "conn = sqlite3.connect('IFsDataImport.db')\n",
    "cursor = conn.cursor()\n",
    "table_name = 'SeriesHistoricalGDPPC%sd'\n",
    "columns_sql = ['Country VARCHAR(255)', 'FIPS_CODE VARCHAR(255)']\n",
    "columns_sql += [f'\"{col}\" DOUBLE(53)' for col in year_columns + ['Earliest', 'MostRecent']]\n",
    "create_table_sql = f\"CREATE TABLE '{table_name}' ({', '.join(columns_sql)})\"\n",
    "            \n",
    "cursor.execute(create_table_sql)\n",
    "gdppc_sd.to_sql(table_name, conn, if_exists='append', index=False)\n",
    "conn.commit()\n",
    "conn.close()"
   ]
  },
  {
   "cell_type": "code",
   "execution_count": 61,
   "id": "926c9a5a-8aa0-4e8d-ba2f-4fae4860a80d",
   "metadata": {},
   "outputs": [],
   "source": [
    "#sql table; change table name each time you import \n",
    "conn = sqlite3.connect('IFsDataImport.db')\n",
    "cursor = conn.cursor()\n",
    "table_name = 'SeriesHistoricalGDPPC%sd_log10'\n",
    "columns_sql = ['Country VARCHAR(255)', 'FIPS_CODE VARCHAR(255)']\n",
    "columns_sql += [f'\"{col}\" DOUBLE(53)' for col in year_columns + ['Earliest', 'MostRecent']]\n",
    "create_table_sql = f\"CREATE TABLE '{table_name}' ({', '.join(columns_sql)})\"\n",
    "            \n",
    "cursor.execute(create_table_sql)\n",
    "gdppc_sd_log10.to_sql(table_name, conn, if_exists='append', index=False)\n",
    "conn.commit()\n",
    "conn.close()"
   ]
  },
  {
   "cell_type": "code",
   "execution_count": 62,
   "id": "6927a8dd-bb9f-4769-b29d-d4cfaf804abc",
   "metadata": {},
   "outputs": [],
   "source": [
    "#sql table; change table name each time you import \n",
    "conn = sqlite3.connect('IFsDataImport.db')\n",
    "cursor = conn.cursor()\n",
    "table_name = 'SeriesHistoricalPOP%mean'\n",
    "columns_sql = ['Country VARCHAR(255)', 'FIPS_CODE VARCHAR(255)']\n",
    "columns_sql += [f'\"{col}\" DOUBLE(53)' for col in year_columns + ['Earliest', 'MostRecent']]\n",
    "create_table_sql = f\"CREATE TABLE '{table_name}' ({', '.join(columns_sql)})\"\n",
    "            \n",
    "cursor.execute(create_table_sql)\n",
    "pop_mean.to_sql(table_name, conn, if_exists='append', index=False)\n",
    "conn.commit()\n",
    "conn.close()"
   ]
  },
  {
   "cell_type": "code",
   "execution_count": 63,
   "id": "0b0baf61-8669-47e8-9509-7f9678988679",
   "metadata": {},
   "outputs": [],
   "source": [
    "#sql table; change table name each time you import \n",
    "conn = sqlite3.connect('IFsDataImport.db')\n",
    "cursor = conn.cursor()\n",
    "table_name = 'SeriesHistoricalPOP%meanlog10'\n",
    "columns_sql = ['Country VARCHAR(255)', 'FIPS_CODE VARCHAR(255)']\n",
    "columns_sql += [f'\"{col}\" DOUBLE(53)' for col in year_columns + ['Earliest', 'MostRecent']]\n",
    "create_table_sql = f\"CREATE TABLE '{table_name}' ({', '.join(columns_sql)})\"\n",
    "            \n",
    "cursor.execute(create_table_sql)\n",
    "pop_mean_log10.to_sql(table_name, conn, if_exists='append', index=False)\n",
    "conn.commit()\n",
    "conn.close()"
   ]
  },
  {
   "cell_type": "code",
   "execution_count": 64,
   "id": "f0f2c0dd-79dc-44a1-a545-8dac6c436e8e",
   "metadata": {},
   "outputs": [],
   "source": [
    "#sql table; change table name each time you import \n",
    "conn = sqlite3.connect('IFsDataImport.db')\n",
    "cursor = conn.cursor()\n",
    "table_name = 'SeriesHistoricalPOP%sd'\n",
    "columns_sql = ['Country VARCHAR(255)', 'FIPS_CODE VARCHAR(255)']\n",
    "columns_sql += [f'\"{col}\" DOUBLE(53)' for col in year_columns + ['Earliest', 'MostRecent']]\n",
    "create_table_sql = f\"CREATE TABLE '{table_name}' ({', '.join(columns_sql)})\"\n",
    "            \n",
    "cursor.execute(create_table_sql)\n",
    "pop_sd.to_sql(table_name, conn, if_exists='append', index=False)\n",
    "conn.commit()\n",
    "conn.close()"
   ]
  },
  {
   "cell_type": "code",
   "execution_count": 65,
   "id": "523a4716-612e-48ce-affd-1360fc8b43cd",
   "metadata": {},
   "outputs": [],
   "source": [
    "#sql table; change table name each time you import \n",
    "conn = sqlite3.connect('IFsDataImport.db')\n",
    "cursor = conn.cursor()\n",
    "table_name = 'SeriesHistoricalPOP%sd_log10'\n",
    "columns_sql = ['Country VARCHAR(255)', 'FIPS_CODE VARCHAR(255)']\n",
    "columns_sql += [f'\"{col}\" DOUBLE(53)' for col in year_columns + ['Earliest', 'MostRecent']]\n",
    "create_table_sql = f\"CREATE TABLE '{table_name}' ({', '.join(columns_sql)})\"\n",
    "            \n",
    "cursor.execute(create_table_sql)\n",
    "pop_sd_log10.to_sql(table_name, conn, if_exists='append', index=False)\n",
    "conn.commit()\n",
    "conn.close()"
   ]
  },
  {
   "cell_type": "code",
   "execution_count": 13,
   "id": "6bb76900-7cca-4042-a8ab-8a8e483e9c31",
   "metadata": {},
   "outputs": [],
   "source": [
    "# importig datadict\n",
    "DataDict = pd.read_csv('datadict.csv')"
   ]
  },
  {
   "cell_type": "code",
   "execution_count": 15,
   "id": "d44c4cfd-40fa-4e47-9535-0b309fa9e542",
   "metadata": {},
   "outputs": [],
   "source": [
    "#sql table; change table name each time you import \n",
    "conn = sqlite3.connect('IFsDataImport.db')\n",
    "cursor = conn.cursor()\n",
    "table_name = 'DataDict'\n",
    "\n",
    "DataDict.to_sql(table_name, conn, if_exists='append', index=False)\n",
    "conn.commit()\n",
    "conn.close()"
   ]
  },
  {
   "cell_type": "code",
   "execution_count": null,
   "id": "b12c1e1f-18f6-44fd-af39-3d099affa095",
   "metadata": {},
   "outputs": [],
   "source": []
  }
 ],
 "metadata": {
  "kernelspec": {
   "display_name": "Python 3 (ipykernel)",
   "language": "python",
   "name": "python3"
  },
  "language_info": {
   "codemirror_mode": {
    "name": "ipython",
    "version": 3
   },
   "file_extension": ".py",
   "mimetype": "text/x-python",
   "name": "python",
   "nbconvert_exporter": "python",
   "pygments_lexer": "ipython3",
   "version": "3.13.5"
  }
 },
 "nbformat": 4,
 "nbformat_minor": 5
}
